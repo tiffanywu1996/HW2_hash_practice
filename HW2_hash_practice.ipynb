{
 "cells": [
  {
   "cell_type": "code",
   "execution_count": 12,
   "id": "30674600",
   "metadata": {},
   "outputs": [],
   "source": [
    "#逐行讀入檔案並存入word_dict 中\n",
    "word_dict = {}\n",
    "with open('./hw2_data.txt', 'r', encoding='utf-8') as file:\n",
    "    for word in file.read().splitlines():\n",
    "#若此字不存在word_dict中，則存入key，並將value設為 1，若已存在，則將 value +1\n",
    "        if word not in word_dict:\n",
    "            word_dict[word] = 1\n",
    "        else:\n",
    "            word_dict[word] += 1"
   ]
  },
  {
   "cell_type": "code",
   "execution_count": 13,
   "id": "9d6d5cb1",
   "metadata": {},
   "outputs": [
    {
     "data": {
      "text/plain": [
       "10"
      ]
     },
     "execution_count": 13,
     "metadata": {},
     "output_type": "execute_result"
    }
   ],
   "source": [
    "#word_dict長度，共10種不重複英文字\n",
    "len(word_dict)"
   ]
  },
  {
   "cell_type": "code",
   "execution_count": 14,
   "id": "c4bc8856",
   "metadata": {},
   "outputs": [
    {
     "data": {
      "text/plain": [
       "{'Cheese': 234,\n",
       " 'Pizza': 83,\n",
       " 'Coke': 145,\n",
       " 'Steak': 46,\n",
       " 'Burger': 196,\n",
       " 'Fries': 76,\n",
       " 'Rib': 33,\n",
       " 'Taco': 57,\n",
       " 'Pho': 19,\n",
       " 'Potato': 3}"
      ]
     },
     "execution_count": 14,
     "metadata": {},
     "output_type": "execute_result"
    }
   ],
   "source": [
    "#顯示word_dict，英文字及出現次數如下\n",
    "word_dict"
   ]
  }
 ],
 "metadata": {
  "kernelspec": {
   "display_name": "Python 3 (ipykernel)",
   "language": "python",
   "name": "python3"
  },
  "language_info": {
   "codemirror_mode": {
    "name": "ipython",
    "version": 3
   },
   "file_extension": ".py",
   "mimetype": "text/x-python",
   "name": "python",
   "nbconvert_exporter": "python",
   "pygments_lexer": "ipython3",
   "version": "3.11.5"
  }
 },
 "nbformat": 4,
 "nbformat_minor": 5
}
